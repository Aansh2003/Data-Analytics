{
 "cells": [
  {
   "cell_type": "code",
   "execution_count": 45,
   "id": "2ebc4e00",
   "metadata": {},
   "outputs": [],
   "source": [
    "import pandas as pd\n",
    "roll_number_list = [0,1,2,3,4,5,6,7,8,9]\n",
    "name_list = ['Aa','Bb','Cc','Dd','Ee','Ff','Gg','Hh','Ii','Kk']\n",
    "gender_list = ['M','F','F','M','F','M','M','M','F','F']\n",
    "marks1_list = [95,99,67,23,56,12,88,45,90,78]\n",
    "marks2_list = [45,44,78,90,12,33,69,83,94,13]\n",
    "marks3_list = [52,76,63,93,85,21,44,60,88,9]\n",
    "dictionary = {'roll number':roll_number_list,'name':name_list,'gender':gender_list,'marks1':marks1_list,'marks2':marks2_list,'marks3':marks3_list}\n",
    "df = pd.DataFrame(data=dictionary)"
   ]
  },
  {
   "cell_type": "code",
   "execution_count": 46,
   "id": "bf95ec46",
   "metadata": {},
   "outputs": [
    {
     "data": {
      "text/html": [
       "<div>\n",
       "<style scoped>\n",
       "    .dataframe tbody tr th:only-of-type {\n",
       "        vertical-align: middle;\n",
       "    }\n",
       "\n",
       "    .dataframe tbody tr th {\n",
       "        vertical-align: top;\n",
       "    }\n",
       "\n",
       "    .dataframe thead th {\n",
       "        text-align: right;\n",
       "    }\n",
       "</style>\n",
       "<table border=\"1\" class=\"dataframe\">\n",
       "  <thead>\n",
       "    <tr style=\"text-align: right;\">\n",
       "      <th></th>\n",
       "      <th>roll number</th>\n",
       "      <th>name</th>\n",
       "      <th>gender</th>\n",
       "      <th>marks1</th>\n",
       "      <th>marks2</th>\n",
       "      <th>marks3</th>\n",
       "    </tr>\n",
       "  </thead>\n",
       "  <tbody>\n",
       "    <tr>\n",
       "      <th>0</th>\n",
       "      <td>0</td>\n",
       "      <td>Aa</td>\n",
       "      <td>M</td>\n",
       "      <td>95</td>\n",
       "      <td>45</td>\n",
       "      <td>52</td>\n",
       "    </tr>\n",
       "    <tr>\n",
       "      <th>1</th>\n",
       "      <td>1</td>\n",
       "      <td>Bb</td>\n",
       "      <td>F</td>\n",
       "      <td>99</td>\n",
       "      <td>44</td>\n",
       "      <td>76</td>\n",
       "    </tr>\n",
       "    <tr>\n",
       "      <th>2</th>\n",
       "      <td>2</td>\n",
       "      <td>Cc</td>\n",
       "      <td>F</td>\n",
       "      <td>67</td>\n",
       "      <td>78</td>\n",
       "      <td>63</td>\n",
       "    </tr>\n",
       "    <tr>\n",
       "      <th>3</th>\n",
       "      <td>3</td>\n",
       "      <td>Dd</td>\n",
       "      <td>M</td>\n",
       "      <td>23</td>\n",
       "      <td>90</td>\n",
       "      <td>93</td>\n",
       "    </tr>\n",
       "    <tr>\n",
       "      <th>4</th>\n",
       "      <td>4</td>\n",
       "      <td>Ee</td>\n",
       "      <td>F</td>\n",
       "      <td>56</td>\n",
       "      <td>12</td>\n",
       "      <td>85</td>\n",
       "    </tr>\n",
       "    <tr>\n",
       "      <th>5</th>\n",
       "      <td>5</td>\n",
       "      <td>Ff</td>\n",
       "      <td>M</td>\n",
       "      <td>12</td>\n",
       "      <td>33</td>\n",
       "      <td>21</td>\n",
       "    </tr>\n",
       "    <tr>\n",
       "      <th>6</th>\n",
       "      <td>6</td>\n",
       "      <td>Gg</td>\n",
       "      <td>M</td>\n",
       "      <td>88</td>\n",
       "      <td>69</td>\n",
       "      <td>44</td>\n",
       "    </tr>\n",
       "    <tr>\n",
       "      <th>7</th>\n",
       "      <td>7</td>\n",
       "      <td>Hh</td>\n",
       "      <td>M</td>\n",
       "      <td>45</td>\n",
       "      <td>83</td>\n",
       "      <td>60</td>\n",
       "    </tr>\n",
       "    <tr>\n",
       "      <th>8</th>\n",
       "      <td>8</td>\n",
       "      <td>Ii</td>\n",
       "      <td>F</td>\n",
       "      <td>90</td>\n",
       "      <td>94</td>\n",
       "      <td>88</td>\n",
       "    </tr>\n",
       "    <tr>\n",
       "      <th>9</th>\n",
       "      <td>9</td>\n",
       "      <td>Kk</td>\n",
       "      <td>F</td>\n",
       "      <td>78</td>\n",
       "      <td>13</td>\n",
       "      <td>9</td>\n",
       "    </tr>\n",
       "  </tbody>\n",
       "</table>\n",
       "</div>"
      ],
      "text/plain": [
       "   roll number name gender  marks1  marks2  marks3\n",
       "0            0   Aa      M      95      45      52\n",
       "1            1   Bb      F      99      44      76\n",
       "2            2   Cc      F      67      78      63\n",
       "3            3   Dd      M      23      90      93\n",
       "4            4   Ee      F      56      12      85\n",
       "5            5   Ff      M      12      33      21\n",
       "6            6   Gg      M      88      69      44\n",
       "7            7   Hh      M      45      83      60\n",
       "8            8   Ii      F      90      94      88\n",
       "9            9   Kk      F      78      13       9"
      ]
     },
     "execution_count": 46,
     "metadata": {},
     "output_type": "execute_result"
    }
   ],
   "source": [
    "df"
   ]
  },
  {
   "cell_type": "code",
   "execution_count": 47,
   "id": "bd8b65fd",
   "metadata": {},
   "outputs": [
    {
     "data": {
      "text/plain": [
       "[192, 219, 208, 206, 153, 66, 201, 188, 272, 100]"
      ]
     },
     "execution_count": 47,
     "metadata": {},
     "output_type": "execute_result"
    }
   ],
   "source": [
    "total_marks_list = []\n",
    "for i in range(0,10):\n",
    "    total_marks_list.append(marks3_list[i]+marks2_list[i]+marks1_list[i])\n",
    "total_marks_list"
   ]
  },
  {
   "cell_type": "code",
   "execution_count": 48,
   "id": "f159d490",
   "metadata": {},
   "outputs": [],
   "source": [
    "df['total marks']=total_marks_list"
   ]
  },
  {
   "cell_type": "code",
   "execution_count": 49,
   "id": "3d93fa88",
   "metadata": {},
   "outputs": [
    {
     "data": {
      "text/html": [
       "<div>\n",
       "<style scoped>\n",
       "    .dataframe tbody tr th:only-of-type {\n",
       "        vertical-align: middle;\n",
       "    }\n",
       "\n",
       "    .dataframe tbody tr th {\n",
       "        vertical-align: top;\n",
       "    }\n",
       "\n",
       "    .dataframe thead th {\n",
       "        text-align: right;\n",
       "    }\n",
       "</style>\n",
       "<table border=\"1\" class=\"dataframe\">\n",
       "  <thead>\n",
       "    <tr style=\"text-align: right;\">\n",
       "      <th></th>\n",
       "      <th>roll number</th>\n",
       "      <th>name</th>\n",
       "      <th>gender</th>\n",
       "      <th>marks1</th>\n",
       "      <th>marks2</th>\n",
       "      <th>marks3</th>\n",
       "      <th>total marks</th>\n",
       "    </tr>\n",
       "  </thead>\n",
       "  <tbody>\n",
       "    <tr>\n",
       "      <th>0</th>\n",
       "      <td>0</td>\n",
       "      <td>Aa</td>\n",
       "      <td>M</td>\n",
       "      <td>95</td>\n",
       "      <td>45</td>\n",
       "      <td>52</td>\n",
       "      <td>192</td>\n",
       "    </tr>\n",
       "    <tr>\n",
       "      <th>1</th>\n",
       "      <td>1</td>\n",
       "      <td>Bb</td>\n",
       "      <td>F</td>\n",
       "      <td>99</td>\n",
       "      <td>44</td>\n",
       "      <td>76</td>\n",
       "      <td>219</td>\n",
       "    </tr>\n",
       "    <tr>\n",
       "      <th>2</th>\n",
       "      <td>2</td>\n",
       "      <td>Cc</td>\n",
       "      <td>F</td>\n",
       "      <td>67</td>\n",
       "      <td>78</td>\n",
       "      <td>63</td>\n",
       "      <td>208</td>\n",
       "    </tr>\n",
       "    <tr>\n",
       "      <th>3</th>\n",
       "      <td>3</td>\n",
       "      <td>Dd</td>\n",
       "      <td>M</td>\n",
       "      <td>23</td>\n",
       "      <td>90</td>\n",
       "      <td>93</td>\n",
       "      <td>206</td>\n",
       "    </tr>\n",
       "    <tr>\n",
       "      <th>4</th>\n",
       "      <td>4</td>\n",
       "      <td>Ee</td>\n",
       "      <td>F</td>\n",
       "      <td>56</td>\n",
       "      <td>12</td>\n",
       "      <td>85</td>\n",
       "      <td>153</td>\n",
       "    </tr>\n",
       "    <tr>\n",
       "      <th>5</th>\n",
       "      <td>5</td>\n",
       "      <td>Ff</td>\n",
       "      <td>M</td>\n",
       "      <td>12</td>\n",
       "      <td>33</td>\n",
       "      <td>21</td>\n",
       "      <td>66</td>\n",
       "    </tr>\n",
       "    <tr>\n",
       "      <th>6</th>\n",
       "      <td>6</td>\n",
       "      <td>Gg</td>\n",
       "      <td>M</td>\n",
       "      <td>88</td>\n",
       "      <td>69</td>\n",
       "      <td>44</td>\n",
       "      <td>201</td>\n",
       "    </tr>\n",
       "    <tr>\n",
       "      <th>7</th>\n",
       "      <td>7</td>\n",
       "      <td>Hh</td>\n",
       "      <td>M</td>\n",
       "      <td>45</td>\n",
       "      <td>83</td>\n",
       "      <td>60</td>\n",
       "      <td>188</td>\n",
       "    </tr>\n",
       "    <tr>\n",
       "      <th>8</th>\n",
       "      <td>8</td>\n",
       "      <td>Ii</td>\n",
       "      <td>F</td>\n",
       "      <td>90</td>\n",
       "      <td>94</td>\n",
       "      <td>88</td>\n",
       "      <td>272</td>\n",
       "    </tr>\n",
       "    <tr>\n",
       "      <th>9</th>\n",
       "      <td>9</td>\n",
       "      <td>Kk</td>\n",
       "      <td>F</td>\n",
       "      <td>78</td>\n",
       "      <td>13</td>\n",
       "      <td>9</td>\n",
       "      <td>100</td>\n",
       "    </tr>\n",
       "  </tbody>\n",
       "</table>\n",
       "</div>"
      ],
      "text/plain": [
       "   roll number name gender  marks1  marks2  marks3  total marks\n",
       "0            0   Aa      M      95      45      52          192\n",
       "1            1   Bb      F      99      44      76          219\n",
       "2            2   Cc      F      67      78      63          208\n",
       "3            3   Dd      M      23      90      93          206\n",
       "4            4   Ee      F      56      12      85          153\n",
       "5            5   Ff      M      12      33      21           66\n",
       "6            6   Gg      M      88      69      44          201\n",
       "7            7   Hh      M      45      83      60          188\n",
       "8            8   Ii      F      90      94      88          272\n",
       "9            9   Kk      F      78      13       9          100"
      ]
     },
     "execution_count": 49,
     "metadata": {},
     "output_type": "execute_result"
    }
   ],
   "source": [
    "df"
   ]
  },
  {
   "cell_type": "code",
   "execution_count": 50,
   "id": "255f7b44",
   "metadata": {},
   "outputs": [
    {
     "name": "stdout",
     "output_type": "stream",
     "text": [
      "Lowest marks1: 12\n"
     ]
    }
   ],
   "source": [
    "\n",
    "print(\"Lowest marks1:\",df['marks1'].min())"
   ]
  },
  {
   "cell_type": "code",
   "execution_count": 51,
   "id": "0520b2bd",
   "metadata": {},
   "outputs": [
    {
     "name": "stdout",
     "output_type": "stream",
     "text": [
      "highest marks2: 94\n"
     ]
    }
   ],
   "source": [
    "\n",
    "print(\"highest marks2:\",df['marks2'].max())"
   ]
  },
  {
   "cell_type": "code",
   "execution_count": 52,
   "id": "7ddb8edf",
   "metadata": {},
   "outputs": [
    {
     "name": "stdout",
     "output_type": "stream",
     "text": [
      "average is: 59.1\n"
     ]
    }
   ],
   "source": [
    "\n",
    "print(\"average is:\",df['marks3'].mean())"
   ]
  },
  {
   "cell_type": "code",
   "execution_count": 53,
   "id": "74f83558",
   "metadata": {},
   "outputs": [
    {
     "name": "stdout",
     "output_type": "stream",
     "text": [
      "Highest avg: 90.66666666666667 \n",
      "Student name: 8    Ii\n",
      "Name: name, dtype: object\n"
     ]
    }
   ],
   "source": [
    "\n",
    "print(\"Highest avg:\",df['total marks'].max()/3,\"\\nStudent name:\",df.loc[df['total marks']==df['total marks'].max()]['name'])"
   ]
  },
  {
   "cell_type": "code",
   "execution_count": 54,
   "id": "95c9accd",
   "metadata": {},
   "outputs": [
    {
     "name": "stdout",
     "output_type": "stream",
     "text": [
      "number of fails: 4\n"
     ]
    }
   ],
   "source": [
    "count = 0\n",
    "for i in range(0,10):\n",
    "    if df['marks1'][i]<40 or df['marks2'][i]<40 or df['marks3'][i]<40:\n",
    "        count +=1\n",
    "print(\"number of fails:\",count)"
   ]
  },
  {
   "cell_type": "code",
   "execution_count": null,
   "id": "77b3d60d",
   "metadata": {},
   "outputs": [],
   "source": []
  }
 ],
 "metadata": {
  "kernelspec": {
   "display_name": "Python 3",
   "language": "python",
   "name": "python3"
  },
  "language_info": {
   "codemirror_mode": {
    "name": "ipython",
    "version": 3
   },
   "file_extension": ".py",
   "mimetype": "text/x-python",
   "name": "python",
   "nbconvert_exporter": "python",
   "pygments_lexer": "ipython3",
   "version": "3.8.8"
  }
 },
 "nbformat": 4,
 "nbformat_minor": 5
}
